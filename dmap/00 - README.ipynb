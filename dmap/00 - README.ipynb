{
 "cells": [
  {
   "cell_type": "markdown",
   "metadata": {},
   "source": [
    "## GO-PCA Demo \"`DMAP`\"\n",
    "\n",
    "```\n",
    "Author: Florian Wagner\n",
    "Email: florian.wagner@duke.edu\n",
    "```\n",
    "\n",
    "### Overview\n",
    "In this demo, [GO-PCA](https://github.com/flo-compbio/gopca) ([Wagner, 2015](https://dx.doi.org/10.1371/journal.pone.0143196)) is applied to the `DMAP` dataset ([Novershtern et al., 2011](http://www.ncbi.nlm.nih.gov/pubmed/21241896)). The demo consists of a Jupyter notebook (``01 - Demo.ipynb``) that contains a series of analysis steps. For each step, the notebook shows the commands/code executed along with the corresponding output. For more information about Jupyter notebooks, see the [Project Jupyter homepage](http://jupyter.org/).\n",
    "\n",
    "### Re-running the demo\n",
    "Jupyter notebooks are inherently *executable*. It is therefore possible to re-run all the code in this demo, thereby reproducing all of the results shown. Clone or download this repository, and make sure that:\n",
    "\n",
    "- Python is installed (preferably Python 3.5 or 3.6, but Python 2.7 should work, too).\n",
    "\n",
    "- The GenomeTools (v0.2.1) and GO-PCA (v0.2.0) Python packages are [installed](http://gopca.readthedocs.io/en/latest/install.html). To quickly install these packages, run the following on the command line:\n",
    "      > pip install --user genometools==0.2.1 gopca==0.2.0\n",
    "\n",
    "- The Jupyter Python package is installed and the Jupyter server is running. To quickly do this, run the following two commands on the command line:\n",
    "      > pip install --user jupyter\n",
    "      > jupyter notebook\n",
    "  The second command should open a browser window showing your file system. Browse to where you downloaded this repository and open the \"01 - Demo\" notebook. You should now be able to re-run the demo by selecting \"Cell->Run All\" from the menu.\n",
    "\n",
    "### Feedback, bugs, and improvements\n",
    "Please feel free to email [Florian Wagner](mailto:florian.wagner@duke.edu) for feedback, and/or use the GitHub issue system to report bugs and suggest improvements.\n",
    "\n",
    "### Copyright and License\n",
    "\n",
    "Copyright (c) 2016 Florian Wagner.\n",
    "\n",
    "This work is licensed under a [Creative Commons Attribution-NonCommercial-ShareAlike 4.0 International License](http://creativecommons.org/licenses/by-nc-sa/4.0/)."
   ]
  }
 ],
 "metadata": {
  "kernelspec": {
   "display_name": "Python 3",
   "language": "python",
   "name": "python3"
  },
  "language_info": {
   "codemirror_mode": {
    "name": "ipython",
    "version": 3
   },
   "file_extension": ".py",
   "mimetype": "text/x-python",
   "name": "python",
   "nbconvert_exporter": "python",
   "pygments_lexer": "ipython3",
   "version": "3.5.2"
  }
 },
 "nbformat": 4,
 "nbformat_minor": 0
}
