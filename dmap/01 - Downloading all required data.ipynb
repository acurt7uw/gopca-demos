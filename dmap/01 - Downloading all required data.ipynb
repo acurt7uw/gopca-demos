{
 "cells": [
  {
   "cell_type": "markdown",
   "metadata": {},
   "source": [
    "## Overview\n",
    "```\n",
    "Author: Florian Wagner\n",
    "Email: florian.wagner@duke.edu\n",
    "```\n",
    "This notebook downloads all data used in the DMAP GO-PCA demo:\n",
    "- Human gene metadata from [NCBI](ftp://ftp.ncbi.nlm.nih.gov/gene/DATA/), used to map Entrez gene IDs to gene names\n",
    "- Human genome annotations from [Ensembl](http://www.ensembl.org/info/data/ftp/index.html), used to generate a list of all human protein-coding genes\n",
    "- The DMAP expression dataset from the [Broad Differentiation Map Portal (DMAP)](http://www.broadinstitute.org/dmap/home)\n",
    "- The GO annotations from the [UniProt-GOA database](http://www.ebi.ac.uk/GOA/downloads)\n",
    "- The Gene Ontology from the [Gene Ontology Consortium](http://geneontology.org/page/download-ontology)"
   ]
  },
  {
   "cell_type": "markdown",
   "metadata": {},
   "source": [
    "### Programs and third-party Python packages used"
   ]
  },
  {
   "cell_type": "code",
   "execution_count": 1,
   "metadata": {
    "collapsed": false
   },
   "outputs": [
    {
     "name": "stdout",
     "output_type": "stream",
     "text": [
      "Curl:\n",
      "curl 7.42.1 (x86_64-unknown-linux-gnu) libcurl/7.42.1 OpenSSL/1.0.2a zlib/1.2.8\n",
      "\n",
      "Gzip:\n",
      "gzip 1.4\n",
      "\n",
      "Python:\n",
      "Python 2.7.9\n",
      "\n",
      "Third-party Python packages:\n",
      "configparser 3.3.0.post2\n",
      "genometools 1.2rc5\n"
     ]
    }
   ],
   "source": [
    "from pkg_resources import require\n",
    "\n",
    "print 'Curl:'\n",
    "!curl --version | head -n 1\n",
    "print\n",
    "\n",
    "print 'Gzip:'\n",
    "!gzip --version | head -n 1\n",
    "print\n",
    "\n",
    "print 'Python:'\n",
    "!python -V\n",
    "print\n",
    "\n",
    "print 'Third-party Python packages:'\n",
    "print str(require('configparser')[0])\n",
    "print str(require('genometools')[0])"
   ]
  },
  {
   "cell_type": "markdown",
   "metadata": {},
   "source": [
    "## Read config file (config.ini)"
   ]
  },
  {
   "cell_type": "code",
   "execution_count": 2,
   "metadata": {
    "collapsed": false
   },
   "outputs": [],
   "source": [
    "import codecs\n",
    "from configparser import ConfigParser\n",
    "\n",
    "config_file = 'config.ini'\n",
    "\n",
    "config = ConfigParser()\n",
    "with codecs.open(config_file, 'rb', encoding = 'UTF-8') as fh:\n",
    "    config.read_file(fh)\n",
    "    \n",
    "config = config['Demo']"
   ]
  },
  {
   "cell_type": "code",
   "execution_count": 3,
   "metadata": {
    "collapsed": false
   },
   "outputs": [],
   "source": [
    "# create data directory, if necessary\n",
    "import os\n",
    "if not os.path.isdir(config['data_dir']):\n",
    "    os.mkdir(config['data_dir'])"
   ]
  },
  {
   "cell_type": "markdown",
   "metadata": {},
   "source": [
    "## Download data"
   ]
  },
  {
   "cell_type": "markdown",
   "metadata": {},
   "source": [
    "### Download NCBI data"
   ]
  },
  {
   "cell_type": "code",
   "execution_count": 4,
   "metadata": {
    "collapsed": false
   },
   "outputs": [
    {
     "name": "stdout",
     "output_type": "stream",
     "text": [
      "  % Total    % Received % Xferd  Average Speed   Time    Time     Time  Current\n",
      "                                 Dload  Upload   Total   Spent    Left  Speed\n",
      "100   506    0   506    0     0    691      0 --:--:-- --:--:-- --:--:--   694\n",
      "100 15.9M  100 15.9M    0     0  3543k      0  0:00:04  0:00:04 --:--:-- 4566k\n"
     ]
    }
   ],
   "source": [
    "# Downloaded gene2accession.gz file from NCBI FTP server on Jan 18, 2016:\n",
    "# $ curl -o gene2accession_2016-01-18.tsv.gz ftp://ftp.ncbi.nlm.nih.gov/gene/DATA/gene2accession.gz\n",
    "\n",
    "# Filtered for human genes:\n",
    "# $ gunzip -c gene2accession_2016-01-18.tsv.gz | grep -P '^9606\\t' | gzip > gene2accession_2016-01-18_human.tsv.gz\n",
    "\n",
    "# Download this file from Dropbox:\n",
    "!curl -L -o \"{config['gene2accession_file']}\" \"{config['gene2accession_url']}\""
   ]
  },
  {
   "cell_type": "markdown",
   "metadata": {},
   "source": [
    "### Download human Ensembl genome annotations"
   ]
  },
  {
   "cell_type": "code",
   "execution_count": 5,
   "metadata": {
    "collapsed": false
   },
   "outputs": [
    {
     "name": "stdout",
     "output_type": "stream",
     "text": [
      "  % Total    % Received % Xferd  Average Speed   Time    Time     Time  Current\n",
      "                                 Dload  Upload   Total   Spent    Left  Speed\n",
      "100 43.5M  100 43.5M    0     0  3795k      0  0:00:11  0:00:11 --:--:-- 7424k\n"
     ]
    }
   ],
   "source": [
    "!curl -o \"{config['genome_annotation_file']}\" \"{config['genome_annotation_url']}\""
   ]
  },
  {
   "cell_type": "markdown",
   "metadata": {},
   "source": [
    "### Download DMAP expression dataset"
   ]
  },
  {
   "cell_type": "code",
   "execution_count": 6,
   "metadata": {
    "collapsed": false
   },
   "outputs": [
    {
     "name": "stdout",
     "output_type": "stream",
     "text": [
      "  % Total    % Received % Xferd  Average Speed   Time    Time     Time  Current\n",
      "                                 Dload  Upload   Total   Spent    Left  Speed\n",
      "100 22.4M  100 22.4M    0     0  1007k      0  0:00:22  0:00:22 --:--:-- 1097k\n"
     ]
    }
   ],
   "source": [
    "!curl -o \"{config['expression_file']}\" \"{config['expression_url']}\""
   ]
  },
  {
   "cell_type": "markdown",
   "metadata": {},
   "source": [
    "### Download GO annotations"
   ]
  },
  {
   "cell_type": "code",
   "execution_count": 7,
   "metadata": {
    "collapsed": false
   },
   "outputs": [
    {
     "name": "stdout",
     "output_type": "stream",
     "text": [
      "  % Total    % Received % Xferd  Average Speed   Time    Time     Time  Current\n",
      "                                 Dload  Upload   Total   Spent    Left  Speed\n",
      "100 6244k  100 6244k    0     0  1663k      0  0:00:03  0:00:03 --:--:-- 1797k\n"
     ]
    }
   ],
   "source": [
    "!curl -o \"{config['go_annotation_file']}\" \"{config['go_annotation_url']}\""
   ]
  },
  {
   "cell_type": "markdown",
   "metadata": {},
   "source": [
    "### Download Gene Ontology\n",
    "We want to make sure that we download the version of the Gene Ontology that matches the version of the GO annotations.\n",
    "We can find the version used in the GO annotations in the first lines of the GO annotation file:"
   ]
  },
  {
   "cell_type": "code",
   "execution_count": 8,
   "metadata": {
    "collapsed": false
   },
   "outputs": [
    {
     "name": "stdout",
     "output_type": "stream",
     "text": [
      "!gaf-version: 2.1\r\n",
      "!\r\n",
      "!The set of protein accessions included in this file is based on UniProt complete proteomes, which may provide more than one protein per gene.\r\n",
      "!They include all Swiss-Prot entries for the species plus any TrEMBL entries that have an Ensembl DR line. The TrEMBL entries are likely to overlap with the Swiss-Prot entries or their isoforms.\r\n",
      "!If a particular protein accession is not annotated with GO, then it will not appear in this file.\r\n",
      "!\r\n",
      "!Note that the annotation set in this file is filtered in order to reduce redundancy; the full, unfiltered set can be found in\r\n",
      "!ftp://ftp.ebi.ac.uk/pub/databases/GO/goa/UNIPROT/gene_association.goa_uniprot.gz\r\n",
      "!\r\n",
      "!Generated: 2015-12-07 09:35\r\n",
      "\r\n",
      "gzip: stdout: Broken pipe\r\n"
     ]
    }
   ],
   "source": [
    "!gunzip -c \"{config['go_annotation_file']}\" | head -n 10"
   ]
  },
  {
   "cell_type": "markdown",
   "metadata": {},
   "source": [
    "The version (date) of the Gene Ontology used is 2015-12-07 (see the line starting with \"!Generated:\")."
   ]
  },
  {
   "cell_type": "code",
   "execution_count": 9,
   "metadata": {
    "collapsed": false
   },
   "outputs": [
    {
     "name": "stdout",
     "output_type": "stream",
     "text": [
      "  % Total    % Received % Xferd  Average Speed   Time    Time     Time  Current\n",
      "                                 Dload  Upload   Total   Spent    Left  Speed\n",
      "100 30.0M    0 30.0M    0     0  6684k      0 --:--:--  0:00:04 --:--:-- 7051k\n"
     ]
    }
   ],
   "source": [
    "!curl -o \"{config['gene_ontology_file']}\" \"{config['gene_ontology_url']}\""
   ]
  },
  {
   "cell_type": "markdown",
   "metadata": {},
   "source": [
    "## Copyright and License\n",
    "\n",
    "Copyright (c) 2016 Florian Wagner.\n",
    "\n",
    "This work is licensed under a [Creative Commons Attribution-NonCommercial-ShareAlike 4.0 International License](http://creativecommons.org/licenses/by-nc-sa/4.0/)."
   ]
  }
 ],
 "metadata": {
  "kernelspec": {
   "display_name": "Python 2",
   "language": "python",
   "name": "python2"
  },
  "language_info": {
   "codemirror_mode": {
    "name": "ipython",
    "version": 2
   },
   "file_extension": ".py",
   "mimetype": "text/x-python",
   "name": "python",
   "nbconvert_exporter": "python",
   "pygments_lexer": "ipython2",
   "version": "2.7.9"
  }
 },
 "nbformat": 4,
 "nbformat_minor": 0
}
