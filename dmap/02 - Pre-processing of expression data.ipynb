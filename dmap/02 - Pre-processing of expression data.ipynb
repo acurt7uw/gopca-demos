{
 "cells": [
  {
   "cell_type": "markdown",
   "metadata": {},
   "source": [
    "## Overview\n",
    "```\n",
    "Author: Florian Wagner\n",
    "Email: florian.wagner@duke.edu\n",
    "```\n",
    "This notebook pre-processes the DMAP expression data, which involves 1) mapping of Entrez Gene IDs to gene names and 2) filtering the genes against the set of protein-coding genes (derived from Ensembl genome annotations)."
   ]
  },
  {
   "cell_type": "markdown",
   "metadata": {},
   "source": [
    "### Programs and thid-party Python packages used"
   ]
  },
  {
   "cell_type": "code",
   "execution_count": 1,
   "metadata": {
    "collapsed": false
   },
   "outputs": [
    {
     "name": "stdout",
     "output_type": "stream",
     "text": [
      "Python:\n",
      "Python 2.7.9\n",
      "\n",
      "Python packages:\n",
      "genometools 1.2rc5\n"
     ]
    }
   ],
   "source": [
    "from pkg_resources import require\n",
    "\n",
    "print 'Python:'\n",
    "!python -V\n",
    "print\n",
    "\n",
    "print 'Python packages:'\n",
    "print str(require('genometools')[0])"
   ]
  },
  {
   "cell_type": "markdown",
   "metadata": {},
   "source": [
    "## Read config file (config.ini)"
   ]
  },
  {
   "cell_type": "code",
   "execution_count": 2,
   "metadata": {
    "collapsed": true
   },
   "outputs": [],
   "source": [
    "import codecs\n",
    "from configparser import ConfigParser\n",
    "\n",
    "config_file = 'config.ini'\n",
    "\n",
    "config = ConfigParser()\n",
    "with codecs.open(config_file, 'rb', encoding = 'UTF-8') as fh:\n",
    "    config.read_file(fh)\n",
    "    \n",
    "config = config['Demo']"
   ]
  },
  {
   "cell_type": "code",
   "execution_count": 3,
   "metadata": {
    "collapsed": false
   },
   "outputs": [],
   "source": [
    "# create output directory, if necessary\n",
    "import os\n",
    "if not os.path.isdir(config['output_dir']):\n",
    "    os.mkdir(config['output_dir'])"
   ]
  },
  {
   "cell_type": "markdown",
   "metadata": {},
   "source": [
    "## Extract Entrez ID -> gene name mapping\n",
    "To generate a list of all human protein-coding genes, we're using the script `ncbi_extract_entrez2gene.py` from the [genometools](http://genometools.readthedocs.org/en/latest/) Python package."
   ]
  },
  {
   "cell_type": "code",
   "execution_count": 4,
   "metadata": {
    "collapsed": false
   },
   "outputs": [
    {
     "name": "stdout",
     "output_type": "stream",
     "text": [
      "[2016-01-19 15:04:36] INFO: Found 57244 Entrez Gene IDs associated with 57231 gene symbols.\n",
      "[2016-01-19 15:04:36] INFO: Output written to file \"./output/entrez2gene_human.tsv\".\n"
     ]
    }
   ],
   "source": [
    "!ncbi_extract_entrez2gene.py -f \"{config['gene2accession_file']}\" -o \"{config['entrez2gene_file']}\""
   ]
  },
  {
   "cell_type": "markdown",
   "metadata": {},
   "source": [
    "## Extract list of human protein-coding genes\n",
    "To generate a list of all human protein-coding genes, we're using the script `ensembl_extract_protein_coding_genes.py` from the [genometools](http://genometools.readthedocs.org/en/latest/) Python package."
   ]
  },
  {
   "cell_type": "code",
   "execution_count": 5,
   "metadata": {
    "collapsed": false
   },
   "outputs": [
    {
     "name": "stdout",
     "output_type": "stream",
     "text": [
      "[2016-01-19 15:04:36] INFO: Regular expression used for filtering chromosome names: \"(?:\\d\\d?|MT|X|Y)$\"\n",
      "[2016-01-19 15:04:36] INFO: Parsing data...\n",
      "[2016-01-19 15:05:05] INFO: done (parsed 2569155 lines).\n",
      "[2016-01-19 15:05:05] INFO: \n",
      "[2016-01-19 15:05:05] INFO: Gene chromosomes (25):\n",
      "[2016-01-19 15:05:05] INFO: \t1, 10, 11, 12, 13, 14, 15, 16, 17, 18, 19, 2, 20, 21, 22, 3, 4, 5, 6, 7, 8, 9, MT, X, Y\n",
      "[2016-01-19 15:05:05] INFO: \n",
      "[2016-01-19 15:05:05] INFO: Excluded chromosomes (15):\n",
      "[2016-01-19 15:05:05] INFO: \tGL000009.2, GL000194.1, GL000195.1, GL000205.2, GL000213.1, GL000218.1, GL000219.1, KI270711.1, KI270713.1, KI270721.1, KI270726.1, KI270727.1, KI270728.1, KI270731.1, KI270734.1\n",
      "[2016-01-19 15:05:05] INFO: \n",
      "[2016-01-19 15:05:05] INFO: Gene sources:\n",
      "[2016-01-19 15:05:05] INFO: \tensembl_havana: 18825\n",
      "[2016-01-19 15:05:05] INFO: \thavana: 791\n",
      "[2016-01-19 15:05:05] INFO: \tensembl: 226\n",
      "[2016-01-19 15:05:05] INFO: \tinsdc: 13\n",
      "[2016-01-19 15:05:05] INFO: \n",
      "[2016-01-19 15:05:05] INFO: Gene types:\n",
      "[2016-01-19 15:05:05] INFO: \tprotein_coding: 19797\n",
      "[2016-01-19 15:05:05] INFO: \tpolymorphic_pseudogene: 58\n",
      "[2016-01-19 15:05:05] INFO: \n",
      "[2016-01-19 15:05:05] INFO: # Genes with redundant annotations: 47\n",
      "[2016-01-19 15:05:05] INFO: \n",
      "[2016-01-19 15:05:05] INFO: Polymorphic pseudogenes (58): AKR7L (1), C6orf183 (1), CASP12 (1), CYP2D7 (1), FCGR2C (1), GBA3 (1), GSTT2 (1), IFNL4 (1), KIR2DS4 (1), MROH5 (1), NAT8B (1), OR10A6 (1), OR10AC1 (1), OR10C1 (1), OR10J4 (1), OR10X1 (1), OR11H7 (1), OR12D1 (1), OR12D2 (1), OR13C7 (1), OR1B1 (1), OR1S1 (1), OR2AG1 (1), OR2F1 (1), OR2J1 (1), OR2L8 (1), OR2S2 (1), OR2T11 (1), OR4A8 (1), OR4C16 (1), OR4Q2 (1), OR4X1 (1), OR4X2 (1), OR51B2 (1), OR51F1 (1), OR51G1 (1), OR52B4 (1), OR52E1 (1), OR52R1 (1), OR52Z1 (1), OR5AC1 (1), OR5AL1 (1), OR5AR1 (1), OR5D13 (1), OR5G3 (1), OR5H6 (1), OR5H8 (1), OR5L1 (1), OR5R1 (1), OR6Q1 (1), OR8B4 (1), OR8D2 (1), OR8J2 (1), OR8K3 (1), PKD1L2 (1), PNLIPRP2 (1), SERPINA2 (1), UBE2NL (1)\n",
      "[2016-01-19 15:05:05] INFO: \n",
      "[2016-01-19 15:05:05] INFO: Total protein-coding genes: 19808\n"
     ]
    }
   ],
   "source": [
    "!gunzip -c \"{config['genome_annotation_file']}\" | \\\n",
    "    ensembl_extract_protein_coding_genes.py -a - -o \"{config['genome_file']}\""
   ]
  },
  {
   "cell_type": "markdown",
   "metadata": {},
   "source": [
    "## Filter genes in DMAP dataset\n",
    "We're using the Entrez ID -> gene name mapping and the list of protein-coding genes generated above to filter the genes (rows) in the DMAP expression matrix."
   ]
  },
  {
   "cell_type": "code",
   "execution_count": 6,
   "metadata": {
    "collapsed": false
   },
   "outputs": [
    {
     "name": "stdout",
     "output_type": "stream",
     "text": [
      "Number of unknown Entrez IDs: 147 / 8968 (1.6%)\n",
      "Number of successfully mapped genes: 8547 / 8968 (95.3%)\n"
     ]
    }
   ],
   "source": [
    "import unicodecsv as csv\n",
    "\n",
    "import numpy as np\n",
    "\n",
    "from genometools.expression import ExpGenome, ExpMatrix\n",
    "from genometools import misc\n",
    "\n",
    "genome_file = config['genome_file']\n",
    "entrez2gene_file = config['entrez2gene_file']\n",
    "expression_file = config['expression_file']\n",
    "mapped_expression_file = config['mapped_expression_file']\n",
    "\n",
    "def read_dmap_expression(fn):\n",
    "    entrez = []\n",
    "    genes = []\n",
    "    expr = []\n",
    "    with open(fn) as fh:\n",
    "        reader = csv.reader(fh, dialect='excel-tab')\n",
    "        reader.next()\n",
    "        p, n = [int(f) for f in reader.next()]\n",
    "        samples = reader.next()[2:]\n",
    "        assert len(samples) == n\n",
    "        for l in reader:\n",
    "            entrez.append(l[0])\n",
    "            genes.append(l[1])\n",
    "            expr.append(l[2:])\n",
    "        assert len(genes) == p\n",
    "    E = np.float64(expr)\n",
    "    return entrez, genes, samples, E\n",
    "\n",
    "genome = ExpGenome.read_tsv(genome_file)\n",
    "e2g = dict(misc.read_all(entrez2gene_file))\n",
    "entrez_dmap, genes_dmap, samples_dmap, X_dmap = read_dmap_expression(expression_file)\n",
    "\n",
    "p, n = X_dmap.shape\n",
    "unknown_entrez = 0\n",
    "genes = []\n",
    "indices = []\n",
    "for i in range(p):\n",
    "    try:\n",
    "        gene = e2g[entrez_dmap[i]]\n",
    "    except KeyError:\n",
    "        unknown_entrez += 1\n",
    "        pass\n",
    "    else:\n",
    "        if gene in genome:\n",
    "            genes.append(gene)\n",
    "            indices.append(i)\n",
    "\n",
    "indices = np.int64(indices)\n",
    "X = X_dmap[indices,:]\n",
    "\n",
    "print 'Number of unknown Entrez IDs: %d / %d (%.1f%%)' \\\n",
    "        %(unknown_entrez, p, 100*(unknown_entrez / float(p)))\n",
    "\n",
    "print 'Number of successfully mapped genes: %d / %d (%.1f%%)' \\\n",
    "        %(len(genes), p, 100*(len(genes) / float(p)))\n",
    "\n",
    "E = ExpMatrix(genes, samples_dmap, X)\n",
    "E.write_tsv(mapped_expression_file)"
   ]
  },
  {
   "cell_type": "markdown",
   "metadata": {},
   "source": [
    "## Copyright and License\n",
    "\n",
    "Copyright (c) 2016 Florian Wagner.\n",
    "\n",
    "This work is licensed under a [Creative Commons Attribution-NonCommercial-ShareAlike 4.0 International License](http://creativecommons.org/licenses/by-nc-sa/4.0/)."
   ]
  }
 ],
 "metadata": {
  "kernelspec": {
   "display_name": "Python 2",
   "language": "python",
   "name": "python2"
  },
  "language_info": {
   "codemirror_mode": {
    "name": "ipython",
    "version": 2
   },
   "file_extension": ".py",
   "mimetype": "text/x-python",
   "name": "python",
   "nbconvert_exporter": "python",
   "pygments_lexer": "ipython2",
   "version": "2.7.9"
  }
 },
 "nbformat": 4,
 "nbformat_minor": 0
}
